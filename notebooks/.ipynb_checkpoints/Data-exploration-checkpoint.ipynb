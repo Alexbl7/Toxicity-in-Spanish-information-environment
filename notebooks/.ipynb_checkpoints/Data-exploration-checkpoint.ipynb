{
 "cells": [
  {
   "cell_type": "code",
   "execution_count": 1,
   "id": "cde1fa98-1681-490b-8f79-fd1826e5d6b9",
   "metadata": {},
   "outputs": [],
   "source": [
    "import pandas as pd\n",
    "import numpy as np\n",
    "import pickle\n",
    "import gzip\n",
    "import xlrd\n",
    "from bertopic import BERTopic\n",
    "\n",
    "import re"
   ]
  },
  {
   "cell_type": "markdown",
   "id": "5fb6d47d-16ba-426f-8c58-9959665c7e9d",
   "metadata": {},
   "source": [
    "# Data exploration"
   ]
  },
  {
   "cell_type": "code",
   "execution_count": 2,
   "id": "1e186c42-8958-4a0d-95dd-3de73faaecf5",
   "metadata": {},
   "outputs": [
    {
     "data": {
      "text/html": [
       "<div>\n",
       "<style scoped>\n",
       "    .dataframe tbody tr th:only-of-type {\n",
       "        vertical-align: middle;\n",
       "    }\n",
       "\n",
       "    .dataframe tbody tr th {\n",
       "        vertical-align: top;\n",
       "    }\n",
       "\n",
       "    .dataframe thead th {\n",
       "        text-align: right;\n",
       "    }\n",
       "</style>\n",
       "<table border=\"1\" class=\"dataframe\">\n",
       "  <thead>\n",
       "    <tr style=\"text-align: right;\">\n",
       "      <th></th>\n",
       "      <th>ID</th>\n",
       "      <th>MEDIO</th>\n",
       "      <th>SOPORTE</th>\n",
       "      <th>URL</th>\n",
       "      <th>TIPO DE MENSAJE</th>\n",
       "      <th>CONTENIDO A ANALIZAR</th>\n",
       "      <th>INTENSIDAD</th>\n",
       "      <th>TONO HUMORISTICO</th>\n",
       "      <th>MODIFICADOR</th>\n",
       "      <th>TIPO DE ODIO</th>\n",
       "    </tr>\n",
       "  </thead>\n",
       "  <tbody>\n",
       "    <tr>\n",
       "      <th>0</th>\n",
       "      <td>55317</td>\n",
       "      <td>20MIN</td>\n",
       "      <td>WEB</td>\n",
       "      <td>https://www.20minutos.es/noticia/4537425/0/alm...</td>\n",
       "      <td>COMENTARIO</td>\n",
       "      <td>Ayuso y Aguado...</td>\n",
       "      <td>NaN</td>\n",
       "      <td>NaN</td>\n",
       "      <td>NaN</td>\n",
       "      <td>NaN</td>\n",
       "    </tr>\n",
       "    <tr>\n",
       "      <th>1</th>\n",
       "      <td>57396</td>\n",
       "      <td>20MIN</td>\n",
       "      <td>WEB</td>\n",
       "      <td>https://www.20minutos.es/noticia/4544713/0/la-...</td>\n",
       "      <td>COMENTARIO</td>\n",
       "      <td>Los meteorólogos que a...</td>\n",
       "      <td>NaN</td>\n",
       "      <td>NaN</td>\n",
       "      <td>NaN</td>\n",
       "      <td>NaN</td>\n",
       "    </tr>\n",
       "    <tr>\n",
       "      <th>2</th>\n",
       "      <td>31693</td>\n",
       "      <td>ABC</td>\n",
       "      <td>TWITTER</td>\n",
       "      <td>https://twitter.com/913912033699131393/status/...</td>\n",
       "      <td>COMENTARIO</td>\n",
       "      <td>Los testigos desmontan...</td>\n",
       "      <td>NaN</td>\n",
       "      <td>NaN</td>\n",
       "      <td>NaN</td>\n",
       "      <td>NaN</td>\n",
       "    </tr>\n",
       "    <tr>\n",
       "      <th>3</th>\n",
       "      <td>31305</td>\n",
       "      <td>ABC</td>\n",
       "      <td>TWITTER</td>\n",
       "      <td>https://twitter.com/875031079710752768/status/...</td>\n",
       "      <td>COMENTARIO</td>\n",
       "      <td>Una residencia concert...</td>\n",
       "      <td>NaN</td>\n",
       "      <td>NaN</td>\n",
       "      <td>NaN</td>\n",
       "      <td>NaN</td>\n",
       "    </tr>\n",
       "    <tr>\n",
       "      <th>4</th>\n",
       "      <td>54706</td>\n",
       "      <td>20MIN</td>\n",
       "      <td>WEB</td>\n",
       "      <td>https://www.20minutos.es/noticia/4536427/0/nev...</td>\n",
       "      <td>COMENTARIO</td>\n",
       "      <td>El día de mañana 2004... la peli real....</td>\n",
       "      <td>NaN</td>\n",
       "      <td>NaN</td>\n",
       "      <td>NaN</td>\n",
       "      <td>NaN</td>\n",
       "    </tr>\n",
       "    <tr>\n",
       "      <th>...</th>\n",
       "      <td>...</td>\n",
       "      <td>...</td>\n",
       "      <td>...</td>\n",
       "      <td>...</td>\n",
       "      <td>...</td>\n",
       "      <td>...</td>\n",
       "      <td>...</td>\n",
       "      <td>...</td>\n",
       "      <td>...</td>\n",
       "      <td>...</td>\n",
       "    </tr>\n",
       "    <tr>\n",
       "      <th>348118</th>\n",
       "      <td>75227</td>\n",
       "      <td>ABC</td>\n",
       "      <td>WEB</td>\n",
       "      <td>https://www.abc.es/economia/abci-podemos-recha...</td>\n",
       "      <td>COMENTARIO</td>\n",
       "      <td>写真を撮ってもいいですか</td>\n",
       "      <td>NaN</td>\n",
       "      <td>NaN</td>\n",
       "      <td>NaN</td>\n",
       "      <td>NaN</td>\n",
       "    </tr>\n",
       "    <tr>\n",
       "      <th>348119</th>\n",
       "      <td>71534</td>\n",
       "      <td>ABC</td>\n",
       "      <td>WEB</td>\n",
       "      <td>https://www.abc.es/opinion/abci-editorial-abc-...</td>\n",
       "      <td>COMENTARIO</td>\n",
       "      <td>���答���</td>\n",
       "      <td>NaN</td>\n",
       "      <td>NaN</td>\n",
       "      <td>NaN</td>\n",
       "      <td>NaN</td>\n",
       "    </tr>\n",
       "    <tr>\n",
       "      <th>348120</th>\n",
       "      <td>71535</td>\n",
       "      <td>ABC</td>\n",
       "      <td>WEB</td>\n",
       "      <td>https://www.abc.es/opinion/abci-editorial-abc-...</td>\n",
       "      <td>COMENTARIO</td>\n",
       "      <td>隆Ay, pardillos! Mira que lo he repetido veces....</td>\n",
       "      <td>NaN</td>\n",
       "      <td>NaN</td>\n",
       "      <td>NaN</td>\n",
       "      <td>NaN</td>\n",
       "    </tr>\n",
       "    <tr>\n",
       "      <th>348121</th>\n",
       "      <td>78562</td>\n",
       "      <td>ABC</td>\n",
       "      <td>WEB</td>\n",
       "      <td>https://www.abc.es/internacional/abci-explosio...</td>\n",
       "      <td>COMENTARIO</td>\n",
       "      <td>驴Allahu akbar?</td>\n",
       "      <td>NaN</td>\n",
       "      <td>NaN</td>\n",
       "      <td>NaN</td>\n",
       "      <td>NaN</td>\n",
       "    </tr>\n",
       "    <tr>\n",
       "      <th>348122</th>\n",
       "      <td>78563</td>\n",
       "      <td>ABC</td>\n",
       "      <td>WEB</td>\n",
       "      <td>https://www.abc.es/internacional/abci-explosio...</td>\n",
       "      <td>COMENTARIO</td>\n",
       "      <td>驴Un gran incendio ha estallado ... ?\\n\\n\\n驴Las...</td>\n",
       "      <td>NaN</td>\n",
       "      <td>NaN</td>\n",
       "      <td>NaN</td>\n",
       "      <td>NaN</td>\n",
       "    </tr>\n",
       "  </tbody>\n",
       "</table>\n",
       "<p>348123 rows × 10 columns</p>\n",
       "</div>"
      ],
      "text/plain": [
       "           ID  MEDIO  SOPORTE  \\\n",
       "0       55317  20MIN      WEB   \n",
       "1       57396  20MIN      WEB   \n",
       "2       31693   ABC   TWITTER   \n",
       "3       31305   ABC   TWITTER   \n",
       "4       54706  20MIN      WEB   \n",
       "...       ...    ...      ...   \n",
       "348118  75227    ABC      WEB   \n",
       "348119  71534    ABC      WEB   \n",
       "348120  71535    ABC      WEB   \n",
       "348121  78562    ABC      WEB   \n",
       "348122  78563    ABC      WEB   \n",
       "\n",
       "                                                      URL TIPO DE MENSAJE  \\\n",
       "0       https://www.20minutos.es/noticia/4537425/0/alm...      COMENTARIO   \n",
       "1       https://www.20minutos.es/noticia/4544713/0/la-...      COMENTARIO   \n",
       "2       https://twitter.com/913912033699131393/status/...      COMENTARIO   \n",
       "3       https://twitter.com/875031079710752768/status/...      COMENTARIO   \n",
       "4       https://www.20minutos.es/noticia/4536427/0/nev...      COMENTARIO   \n",
       "...                                                   ...             ...   \n",
       "348118  https://www.abc.es/economia/abci-podemos-recha...      COMENTARIO   \n",
       "348119  https://www.abc.es/opinion/abci-editorial-abc-...      COMENTARIO   \n",
       "348120  https://www.abc.es/opinion/abci-editorial-abc-...      COMENTARIO   \n",
       "348121  https://www.abc.es/internacional/abci-explosio...      COMENTARIO   \n",
       "348122  https://www.abc.es/internacional/abci-explosio...      COMENTARIO   \n",
       "\n",
       "                                     CONTENIDO A ANALIZAR INTENSIDAD  \\\n",
       "0                                       Ayuso y Aguado...        NaN   \n",
       "1                               Los meteorólogos que a...        NaN   \n",
       "2                               Los testigos desmontan...        NaN   \n",
       "3                               Una residencia concert...        NaN   \n",
       "4               El día de mañana 2004... la peli real....        NaN   \n",
       "...                                                   ...        ...   \n",
       "348118                                      写真を撮ってもいいですか         NaN   \n",
       "348119                                            ���答���        NaN   \n",
       "348120  隆Ay, pardillos! Mira que lo he repetido veces....        NaN   \n",
       "348121                                     驴Allahu akbar?        NaN   \n",
       "348122  驴Un gran incendio ha estallado ... ?\\n\\n\\n驴Las...        NaN   \n",
       "\n",
       "       TONO HUMORISTICO MODIFICADOR TIPO DE ODIO  \n",
       "0                   NaN         NaN          NaN  \n",
       "1                   NaN         NaN          NaN  \n",
       "2                   NaN         NaN          NaN  \n",
       "3                   NaN         NaN          NaN  \n",
       "4                   NaN         NaN          NaN  \n",
       "...                 ...         ...          ...  \n",
       "348118              NaN         NaN          NaN  \n",
       "348119              NaN         NaN          NaN  \n",
       "348120              NaN         NaN          NaN  \n",
       "348121              NaN         NaN          NaN  \n",
       "348122              NaN         NaN          NaN  \n",
       "\n",
       "[348123 rows x 10 columns]"
      ]
     },
     "execution_count": 2,
     "metadata": {},
     "output_type": "execute_result"
    }
   ],
   "source": [
    "url = \"xxxx\"\n",
    "df_hatemedia = pd.read_excel(url)\n",
    "\n",
    "df_hatemedia.loc[df_hatemedia[\"TIPO DE MENSAJE\"].isna(), \"TIPO DE MENSAJE\"] = \"COMENTARIO\"\n",
    "df_hatemedia = df_hatemedia[df_hatemedia[\"TIPO DE MENSAJE\"] == \"COMENTARIO\"].reset_index(drop=True)\n",
    "\n",
    "\n",
    "df_hatemedia"
   ]
  },
  {
   "cell_type": "markdown",
   "id": "0642fae9-a872-4892-bfde-3fe2de074267",
   "metadata": {},
   "source": [
    "Read data with setiments"
   ]
  },
  {
   "cell_type": "code",
   "execution_count": 14,
   "id": "5229efad-049f-47dc-863f-74315e7735a4",
   "metadata": {},
   "outputs": [
    {
     "data": {
      "text/html": [
       "<div>\n",
       "<style scoped>\n",
       "    .dataframe tbody tr th:only-of-type {\n",
       "        vertical-align: middle;\n",
       "    }\n",
       "\n",
       "    .dataframe tbody tr th {\n",
       "        vertical-align: top;\n",
       "    }\n",
       "\n",
       "    .dataframe thead th {\n",
       "        text-align: right;\n",
       "    }\n",
       "</style>\n",
       "<table border=\"1\" class=\"dataframe\">\n",
       "  <thead>\n",
       "    <tr style=\"text-align: right;\">\n",
       "      <th></th>\n",
       "      <th>ID</th>\n",
       "      <th>MEDIO</th>\n",
       "      <th>SOPORTE</th>\n",
       "      <th>URL</th>\n",
       "      <th>TIPO DE MENSAJE</th>\n",
       "      <th>CONTENIDO A ANALIZAR</th>\n",
       "      <th>INTENSIDAD</th>\n",
       "      <th>TONO HUMORISTICO</th>\n",
       "      <th>MODIFICADOR</th>\n",
       "      <th>TIPO DE ODIO</th>\n",
       "      <th>SENTIMIENTO</th>\n",
       "    </tr>\n",
       "  </thead>\n",
       "  <tbody>\n",
       "    <tr>\n",
       "      <th>0</th>\n",
       "      <td>55317</td>\n",
       "      <td>20MIN</td>\n",
       "      <td>WEB</td>\n",
       "      <td>https://www.20minutos.es/noticia/4537425/0/alm...</td>\n",
       "      <td>COMENTARIO</td>\n",
       "      <td>Ayuso y Aguado...</td>\n",
       "      <td>NaN</td>\n",
       "      <td>NaN</td>\n",
       "      <td>NaN</td>\n",
       "      <td>NaN</td>\n",
       "      <td>negative</td>\n",
       "    </tr>\n",
       "    <tr>\n",
       "      <th>1</th>\n",
       "      <td>57396</td>\n",
       "      <td>20MIN</td>\n",
       "      <td>WEB</td>\n",
       "      <td>https://www.20minutos.es/noticia/4544713/0/la-...</td>\n",
       "      <td>COMENTARIO</td>\n",
       "      <td>Los meteorólogos que a...</td>\n",
       "      <td>NaN</td>\n",
       "      <td>NaN</td>\n",
       "      <td>NaN</td>\n",
       "      <td>NaN</td>\n",
       "      <td>negative</td>\n",
       "    </tr>\n",
       "    <tr>\n",
       "      <th>2</th>\n",
       "      <td>31693</td>\n",
       "      <td>ABC</td>\n",
       "      <td>TWITTER</td>\n",
       "      <td>https://twitter.com/913912033699131393/status/...</td>\n",
       "      <td>COMENTARIO</td>\n",
       "      <td>Los testigos desmontan...</td>\n",
       "      <td>NaN</td>\n",
       "      <td>NaN</td>\n",
       "      <td>NaN</td>\n",
       "      <td>NaN</td>\n",
       "      <td>negative</td>\n",
       "    </tr>\n",
       "    <tr>\n",
       "      <th>3</th>\n",
       "      <td>31305</td>\n",
       "      <td>ABC</td>\n",
       "      <td>TWITTER</td>\n",
       "      <td>https://twitter.com/875031079710752768/status/...</td>\n",
       "      <td>COMENTARIO</td>\n",
       "      <td>Una residencia concert...</td>\n",
       "      <td>NaN</td>\n",
       "      <td>NaN</td>\n",
       "      <td>NaN</td>\n",
       "      <td>NaN</td>\n",
       "      <td>negative</td>\n",
       "    </tr>\n",
       "    <tr>\n",
       "      <th>4</th>\n",
       "      <td>54706</td>\n",
       "      <td>20MIN</td>\n",
       "      <td>WEB</td>\n",
       "      <td>https://www.20minutos.es/noticia/4536427/0/nev...</td>\n",
       "      <td>COMENTARIO</td>\n",
       "      <td>El día de mañana 2004... la peli real....</td>\n",
       "      <td>NaN</td>\n",
       "      <td>NaN</td>\n",
       "      <td>NaN</td>\n",
       "      <td>NaN</td>\n",
       "      <td>neutral</td>\n",
       "    </tr>\n",
       "    <tr>\n",
       "      <th>...</th>\n",
       "      <td>...</td>\n",
       "      <td>...</td>\n",
       "      <td>...</td>\n",
       "      <td>...</td>\n",
       "      <td>...</td>\n",
       "      <td>...</td>\n",
       "      <td>...</td>\n",
       "      <td>...</td>\n",
       "      <td>...</td>\n",
       "      <td>...</td>\n",
       "      <td>...</td>\n",
       "    </tr>\n",
       "    <tr>\n",
       "      <th>348118</th>\n",
       "      <td>75227</td>\n",
       "      <td>ABC</td>\n",
       "      <td>WEB</td>\n",
       "      <td>https://www.abc.es/economia/abci-podemos-recha...</td>\n",
       "      <td>COMENTARIO</td>\n",
       "      <td>写真を撮ってもいいですか</td>\n",
       "      <td>NaN</td>\n",
       "      <td>NaN</td>\n",
       "      <td>NaN</td>\n",
       "      <td>NaN</td>\n",
       "      <td>neutral</td>\n",
       "    </tr>\n",
       "    <tr>\n",
       "      <th>348119</th>\n",
       "      <td>71534</td>\n",
       "      <td>ABC</td>\n",
       "      <td>WEB</td>\n",
       "      <td>https://www.abc.es/opinion/abci-editorial-abc-...</td>\n",
       "      <td>COMENTARIO</td>\n",
       "      <td>���答���</td>\n",
       "      <td>NaN</td>\n",
       "      <td>NaN</td>\n",
       "      <td>NaN</td>\n",
       "      <td>NaN</td>\n",
       "      <td>neutral</td>\n",
       "    </tr>\n",
       "    <tr>\n",
       "      <th>348120</th>\n",
       "      <td>71535</td>\n",
       "      <td>ABC</td>\n",
       "      <td>WEB</td>\n",
       "      <td>https://www.abc.es/opinion/abci-editorial-abc-...</td>\n",
       "      <td>COMENTARIO</td>\n",
       "      <td>隆Ay, pardillos! Mira que lo he repetido veces....</td>\n",
       "      <td>NaN</td>\n",
       "      <td>NaN</td>\n",
       "      <td>NaN</td>\n",
       "      <td>NaN</td>\n",
       "      <td>negative</td>\n",
       "    </tr>\n",
       "    <tr>\n",
       "      <th>348121</th>\n",
       "      <td>78562</td>\n",
       "      <td>ABC</td>\n",
       "      <td>WEB</td>\n",
       "      <td>https://www.abc.es/internacional/abci-explosio...</td>\n",
       "      <td>COMENTARIO</td>\n",
       "      <td>驴Allahu akbar?</td>\n",
       "      <td>NaN</td>\n",
       "      <td>NaN</td>\n",
       "      <td>NaN</td>\n",
       "      <td>NaN</td>\n",
       "      <td>neutral</td>\n",
       "    </tr>\n",
       "    <tr>\n",
       "      <th>348122</th>\n",
       "      <td>78563</td>\n",
       "      <td>ABC</td>\n",
       "      <td>WEB</td>\n",
       "      <td>https://www.abc.es/internacional/abci-explosio...</td>\n",
       "      <td>COMENTARIO</td>\n",
       "      <td>驴Un gran incendio ha estallado ... ?\\n\\n\\n驴Las...</td>\n",
       "      <td>NaN</td>\n",
       "      <td>NaN</td>\n",
       "      <td>NaN</td>\n",
       "      <td>NaN</td>\n",
       "      <td>negative</td>\n",
       "    </tr>\n",
       "  </tbody>\n",
       "</table>\n",
       "<p>348123 rows × 11 columns</p>\n",
       "</div>"
      ],
      "text/plain": [
       "           ID  MEDIO  SOPORTE  \\\n",
       "0       55317  20MIN      WEB   \n",
       "1       57396  20MIN      WEB   \n",
       "2       31693    ABC  TWITTER   \n",
       "3       31305    ABC  TWITTER   \n",
       "4       54706  20MIN      WEB   \n",
       "...       ...    ...      ...   \n",
       "348118  75227    ABC      WEB   \n",
       "348119  71534    ABC      WEB   \n",
       "348120  71535    ABC      WEB   \n",
       "348121  78562    ABC      WEB   \n",
       "348122  78563    ABC      WEB   \n",
       "\n",
       "                                                      URL TIPO DE MENSAJE  \\\n",
       "0       https://www.20minutos.es/noticia/4537425/0/alm...      COMENTARIO   \n",
       "1       https://www.20minutos.es/noticia/4544713/0/la-...      COMENTARIO   \n",
       "2       https://twitter.com/913912033699131393/status/...      COMENTARIO   \n",
       "3       https://twitter.com/875031079710752768/status/...      COMENTARIO   \n",
       "4       https://www.20minutos.es/noticia/4536427/0/nev...      COMENTARIO   \n",
       "...                                                   ...             ...   \n",
       "348118  https://www.abc.es/economia/abci-podemos-recha...      COMENTARIO   \n",
       "348119  https://www.abc.es/opinion/abci-editorial-abc-...      COMENTARIO   \n",
       "348120  https://www.abc.es/opinion/abci-editorial-abc-...      COMENTARIO   \n",
       "348121  https://www.abc.es/internacional/abci-explosio...      COMENTARIO   \n",
       "348122  https://www.abc.es/internacional/abci-explosio...      COMENTARIO   \n",
       "\n",
       "                                     CONTENIDO A ANALIZAR INTENSIDAD  \\\n",
       "0                                       Ayuso y Aguado...        NaN   \n",
       "1                               Los meteorólogos que a...        NaN   \n",
       "2                               Los testigos desmontan...        NaN   \n",
       "3                               Una residencia concert...        NaN   \n",
       "4               El día de mañana 2004... la peli real....        NaN   \n",
       "...                                                   ...        ...   \n",
       "348118                                      写真を撮ってもいいですか         NaN   \n",
       "348119                                            ���答���        NaN   \n",
       "348120  隆Ay, pardillos! Mira que lo he repetido veces....        NaN   \n",
       "348121                                     驴Allahu akbar?        NaN   \n",
       "348122  驴Un gran incendio ha estallado ... ?\\n\\n\\n驴Las...        NaN   \n",
       "\n",
       "       TONO HUMORISTICO MODIFICADOR TIPO DE ODIO SENTIMIENTO  \n",
       "0                   NaN         NaN          NaN    negative  \n",
       "1                   NaN         NaN          NaN    negative  \n",
       "2                   NaN         NaN          NaN    negative  \n",
       "3                   NaN         NaN          NaN    negative  \n",
       "4                   NaN         NaN          NaN     neutral  \n",
       "...                 ...         ...          ...         ...  \n",
       "348118              NaN         NaN          NaN     neutral  \n",
       "348119              NaN         NaN          NaN     neutral  \n",
       "348120              NaN         NaN          NaN    negative  \n",
       "348121              NaN         NaN          NaN     neutral  \n",
       "348122              NaN         NaN          NaN    negative  \n",
       "\n",
       "[348123 rows x 11 columns]"
      ]
     },
     "execution_count": 14,
     "metadata": {},
     "output_type": "execute_result"
    }
   ],
   "source": [
    "df_hatemedia = pd.read_excel(\"xxxxx\")\n",
    "\n",
    "df_hatemedia.loc[df_hatemedia[\"TIPO DE MENSAJE\"].isna(), \"TIPO DE MENSAJE\"] = \"COMENTARIO\"\n",
    "df_hatemedia = df_hatemedia[df_hatemedia[\"TIPO DE MENSAJE\"] == \"COMENTARIO\"].reset_index(drop=True)\n",
    "\n",
    "\n",
    "df_hatemedia"
   ]
  },
  {
   "cell_type": "code",
   "execution_count": 3,
   "id": "f5ab58fc-3586-492f-856a-ba30240ebd17",
   "metadata": {},
   "outputs": [
    {
     "data": {
      "text/plain": [
       "Index(['ID', 'MEDIO', 'SOPORTE', 'URL', 'TIPO DE MENSAJE',\n",
       "       'CONTENIDO A ANALIZAR', 'INTENSIDAD', 'TONO HUMORISTICO', 'MODIFICADOR',\n",
       "       'TIPO DE ODIO'],\n",
       "      dtype='object')"
      ]
     },
     "execution_count": 3,
     "metadata": {},
     "output_type": "execute_result"
    }
   ],
   "source": [
    "df_hatemedia.columns"
   ]
  },
  {
   "cell_type": "code",
   "execution_count": 28,
   "id": "37d54772-8cc4-4cb1-b703-bfae5ddd68d5",
   "metadata": {},
   "outputs": [
    {
     "data": {
      "text/plain": [
       "SOPORTE  SOPORTE\n",
       "TWITTER  TWITTER    242376\n",
       "WEB      WEB        377831\n",
       "Name: SOPORTE, dtype: int64"
      ]
     },
     "execution_count": 28,
     "metadata": {},
     "output_type": "execute_result"
    }
   ],
   "source": [
    "import pandas as pd\n",
    "\n",
    "# Supongamos que tu DataFrame se llama df_hatemedia\n",
    "df_hatemedia['SOPORTE'] = df_hatemedia['SOPORTE'].str.strip().str.upper()\n",
    "\n",
    "# Agrupa por MEDIO\n",
    "grouped_df = df_hatemedia.groupby('SOPORTE')\n",
    "\n",
    "grouped_df['SOPORTE'].value_counts()"
   ]
  },
  {
   "cell_type": "code",
   "execution_count": 5,
   "id": "34d8b497-c37d-477b-a3d4-d6d188dcd591",
   "metadata": {},
   "outputs": [
    {
     "data": {
      "text/plain": [
       "MEDIO          SOPORTE\n",
       "20MIN          WEB        28889\n",
       "               TWITTER    20684\n",
       "ABC            TWITTER    38204\n",
       "               WEB        34159\n",
       "EL MUNDO       WEB        76398\n",
       "               TWITTER    66811\n",
       "EL PAÍS        TWITTER    23240\n",
       "               WEB        20128\n",
       "LA VANGUARDIA  WEB        33492\n",
       "               TWITTER     6118\n",
       "Name: SOPORTE, dtype: int64"
      ]
     },
     "execution_count": 5,
     "metadata": {},
     "output_type": "execute_result"
    }
   ],
   "source": [
    "import pandas as pd\n",
    "\n",
    "# Supongamos que tu DataFrame se llama df_hatemedia\n",
    "df_hatemedia['MEDIO'] = df_hatemedia['MEDIO'].str.strip().str.upper()\n",
    "\n",
    "# Agrupa por MEDIO\n",
    "grouped_df = df_hatemedia.groupby('MEDIO')\n",
    "\n",
    "grouped_df['SOPORTE'].value_counts()"
   ]
  },
  {
   "cell_type": "markdown",
   "id": "4ffa857f-f17d-45d9-a444-116c7671a649",
   "metadata": {},
   "source": [
    "# Media characterization"
   ]
  },
  {
   "cell_type": "code",
   "execution_count": 14,
   "id": "c815baab-5931-4e00-af61-8534975aed7d",
   "metadata": {},
   "outputs": [
    {
     "data": {
      "text/plain": [
       "EL MUNDO         139708\n",
       "ABC               69878\n",
       "20MIN             48315\n",
       "EL PAÍS           41804\n",
       "LA VANGUARDIA     38102\n",
       "Name: MEDIO, dtype: int64"
      ]
     },
     "execution_count": 14,
     "metadata": {},
     "output_type": "execute_result"
    }
   ],
   "source": [
    "df_hatemedia['MEDIO'].value_counts()"
   ]
  },
  {
   "cell_type": "markdown",
   "id": "28f39f08-96f4-48a6-af48-ee65750a2094",
   "metadata": {},
   "source": [
    "## El mundo"
   ]
  },
  {
   "cell_type": "markdown",
   "id": "b92b5d44-9ba8-4d53-a052-6cb9fe3bdb72",
   "metadata": {},
   "source": [
    "Hate"
   ]
  },
  {
   "cell_type": "code",
   "execution_count": 15,
   "id": "24a51ebb-d0c1-443c-8aa7-39405ee6dd2c",
   "metadata": {},
   "outputs": [
    {
     "name": "stdout",
     "output_type": "stream",
     "text": [
      "5588\n"
     ]
    }
   ],
   "source": [
    "filtered_df = df_hatemedia[(df_hatemedia['MEDIO'] == 'EL MUNDO') & ~df_hatemedia['TIPO DE ODIO'].isna()]\n",
    "\n",
    "# Print the filtered DataFrame\n",
    "print(len(filtered_df))"
   ]
  },
  {
   "cell_type": "markdown",
   "id": "dfb8eb23-7db5-456e-8280-0c903dfd8060",
   "metadata": {},
   "source": [
    "No hate"
   ]
  },
  {
   "cell_type": "code",
   "execution_count": 17,
   "id": "380b0f18-bb2e-4bbc-a1f4-b4d1cfa6061c",
   "metadata": {},
   "outputs": [
    {
     "name": "stdout",
     "output_type": "stream",
     "text": [
      "134120\n"
     ]
    }
   ],
   "source": [
    "filtered_df = df_hatemedia[(df_hatemedia['MEDIO'] == 'EL MUNDO') & (df_hatemedia['TIPO DE ODIO'].isna())]\n",
    "\n",
    "# Print the filtered DataFrame\n",
    "print(len(filtered_df))"
   ]
  },
  {
   "cell_type": "code",
   "execution_count": 18,
   "id": "587918f6-eb53-441f-a62d-475e1358fd15",
   "metadata": {},
   "outputs": [
    {
     "name": "stdout",
     "output_type": "stream",
     "text": [
      "95251\n"
     ]
    }
   ],
   "source": [
    "filtered_df = df_hatemedia[(df_hatemedia['MEDIO'] == 'EL MUNDO') &\n",
    "(df_hatemedia['SENTIMIENTO']==\"negative\")]\n",
    "\n",
    "# Print the filtered DataFrame\n",
    "print(len(filtered_df))"
   ]
  },
  {
   "cell_type": "code",
   "execution_count": 19,
   "id": "d97b31cc-8ee1-40b0-9dc6-2ae231b46094",
   "metadata": {},
   "outputs": [
    {
     "name": "stdout",
     "output_type": "stream",
     "text": [
      "10997\n"
     ]
    }
   ],
   "source": [
    "filtered_df = df_hatemedia[(df_hatemedia['MEDIO'] == 'EL MUNDO') &\n",
    "(df_hatemedia['SENTIMIENTO']==\"positive\")]\n",
    "\n",
    "# Print the filtered DataFrame\n",
    "print(len(filtered_df))"
   ]
  },
  {
   "cell_type": "code",
   "execution_count": 21,
   "id": "5a4b8cd6-53fa-4412-812e-d748f0ac8b9b",
   "metadata": {},
   "outputs": [
    {
     "name": "stdout",
     "output_type": "stream",
     "text": [
      "33460\n"
     ]
    }
   ],
   "source": [
    "filtered_df = df_hatemedia[(df_hatemedia['MEDIO'] == 'EL MUNDO') &\n",
    "(df_hatemedia['SENTIMIENTO']==\"neutral\")]\n",
    "\n",
    "# Print the filtered DataFrame\n",
    "print(len(filtered_df))"
   ]
  },
  {
   "cell_type": "markdown",
   "id": "b9288951-e571-484f-bc70-53707adfcf52",
   "metadata": {},
   "source": [
    "## ABC"
   ]
  },
  {
   "cell_type": "markdown",
   "id": "5b13597f-c43d-4a8a-8668-a5d10928d8be",
   "metadata": {},
   "source": [
    "Hate"
   ]
  },
  {
   "cell_type": "code",
   "execution_count": 22,
   "id": "d77ce499-af91-43d3-acda-481b7818bfba",
   "metadata": {},
   "outputs": [
    {
     "name": "stdout",
     "output_type": "stream",
     "text": [
      "2375\n"
     ]
    }
   ],
   "source": [
    "filtered_df = df_hatemedia[(df_hatemedia['MEDIO'] == 'ABC') & ~df_hatemedia['TIPO DE ODIO'].isna()]\n",
    "\n",
    "# Print the filtered DataFrame\n",
    "print(len(filtered_df))"
   ]
  },
  {
   "cell_type": "markdown",
   "id": "51bf8923-5efc-426f-87ab-216635a83c72",
   "metadata": {},
   "source": [
    "No hate"
   ]
  },
  {
   "cell_type": "code",
   "execution_count": 24,
   "id": "4bb18c19-cf66-4972-8adb-dd171e196656",
   "metadata": {},
   "outputs": [
    {
     "name": "stdout",
     "output_type": "stream",
     "text": [
      "67503\n"
     ]
    }
   ],
   "source": [
    "filtered_df = df_hatemedia[(df_hatemedia['MEDIO'] == 'ABC') & (df_hatemedia['TIPO DE ODIO'].isna())]\n",
    "\n",
    "# Print the filtered DataFrame\n",
    "print(len(filtered_df))"
   ]
  },
  {
   "cell_type": "code",
   "execution_count": 26,
   "id": "35e734d0-0c0c-4754-8ffc-526214b845b8",
   "metadata": {},
   "outputs": [
    {
     "name": "stdout",
     "output_type": "stream",
     "text": [
      "44400\n"
     ]
    }
   ],
   "source": [
    "filtered_df = df_hatemedia[(df_hatemedia['MEDIO'] == 'ABC') &\n",
    "(df_hatemedia['SENTIMIENTO']==\"negative\")]\n",
    "\n",
    "# Print the filtered DataFrame\n",
    "print(len(filtered_df))"
   ]
  },
  {
   "cell_type": "code",
   "execution_count": 31,
   "id": "9fc9bc39-272b-472e-a3f9-9bbca65428eb",
   "metadata": {},
   "outputs": [
    {
     "name": "stdout",
     "output_type": "stream",
     "text": [
      "5693\n"
     ]
    }
   ],
   "source": [
    "filtered_df = df_hatemedia[(df_hatemedia['MEDIO'] == 'ABC') &\n",
    "(df_hatemedia['SENTIMIENTO']==\"positive\")]\n",
    "\n",
    "# Print the filtered DataFrame\n",
    "print(len(filtered_df))"
   ]
  },
  {
   "cell_type": "code",
   "execution_count": 30,
   "id": "fe55bfad-6b9f-4c33-a619-4532c7c5678b",
   "metadata": {},
   "outputs": [
    {
     "name": "stdout",
     "output_type": "stream",
     "text": [
      "19785\n"
     ]
    }
   ],
   "source": [
    "filtered_df = df_hatemedia[(df_hatemedia['MEDIO'] == 'ABC') &\n",
    "(df_hatemedia['SENTIMIENTO']==\"neutral\")]\n",
    "\n",
    "# Print the filtered DataFrame\n",
    "print(len(filtered_df))"
   ]
  },
  {
   "cell_type": "markdown",
   "id": "e4ce86f2-426d-4619-9cde-0c17749ef491",
   "metadata": {},
   "source": [
    "## 20MIN"
   ]
  },
  {
   "cell_type": "markdown",
   "id": "f4addba9-deb6-4187-bf2d-f623875b286c",
   "metadata": {},
   "source": [
    "Hate"
   ]
  },
  {
   "cell_type": "code",
   "execution_count": 32,
   "id": "e74f50ec-e874-43a5-87d1-fb0cccb0d44d",
   "metadata": {},
   "outputs": [
    {
     "name": "stdout",
     "output_type": "stream",
     "text": [
      "2915\n"
     ]
    }
   ],
   "source": [
    "filtered_df = df_hatemedia[(df_hatemedia['MEDIO'] == '20MIN') & ~df_hatemedia['TIPO DE ODIO'].isna()]\n",
    "\n",
    "# Print the filtered DataFrame\n",
    "print(len(filtered_df))"
   ]
  },
  {
   "cell_type": "markdown",
   "id": "b9929b4e-c037-443f-b3bf-4fb232b7faa7",
   "metadata": {},
   "source": [
    "No hate"
   ]
  },
  {
   "cell_type": "code",
   "execution_count": 33,
   "id": "d23882cc-964c-4298-80fa-c91e8c6dee72",
   "metadata": {},
   "outputs": [
    {
     "name": "stdout",
     "output_type": "stream",
     "text": [
      "45400\n"
     ]
    }
   ],
   "source": [
    "filtered_df = df_hatemedia[(df_hatemedia['MEDIO'] == '20MIN') & (df_hatemedia['TIPO DE ODIO'].isna())]\n",
    "\n",
    "# Print the filtered DataFrame\n",
    "print(len(filtered_df))"
   ]
  },
  {
   "cell_type": "code",
   "execution_count": 34,
   "id": "7ca33b0d-09b9-48c2-bb34-b3ca232d7c20",
   "metadata": {},
   "outputs": [
    {
     "name": "stdout",
     "output_type": "stream",
     "text": [
      "Sentimientos para 20MIN\n",
      "negative 25636\n",
      "positive 4339\n",
      "neutral 18340\n"
     ]
    }
   ],
   "source": [
    "medio= \"20MIN\"\n",
    "print(\"Sentimientos para \"+medio)\n",
    "\n",
    "sents = [\"negative\",\"positive\", \"neutral\"]\n",
    "\n",
    "for s in sents:\n",
    "    filtered_df = df_hatemedia[(df_hatemedia['MEDIO'] == medio) &\n",
    "(df_hatemedia['SENTIMIENTO']==s)]\n",
    "    # Print the filtered DataFrame\n",
    "    print(s +\" \" + str(len(filtered_df)))"
   ]
  },
  {
   "cell_type": "markdown",
   "id": "a0d7e0e1-2616-4217-a4a2-8a9129db37ef",
   "metadata": {},
   "source": [
    "## EL PAÍS"
   ]
  },
  {
   "cell_type": "code",
   "execution_count": 35,
   "id": "c65fd2db-841c-4ed8-a1c8-571cf956d2a2",
   "metadata": {},
   "outputs": [
    {
     "name": "stdout",
     "output_type": "stream",
     "text": [
      "2234\n"
     ]
    }
   ],
   "source": [
    "filtered_df = df_hatemedia[(df_hatemedia['MEDIO'] == 'EL PAÍS') & ~df_hatemedia['TIPO DE ODIO'].isna()]\n",
    "\n",
    "# Print the filtered DataFrame\n",
    "print(len(filtered_df))"
   ]
  },
  {
   "cell_type": "code",
   "execution_count": 37,
   "id": "03accf9f-b1c2-4438-976c-1e28edad3233",
   "metadata": {},
   "outputs": [
    {
     "name": "stdout",
     "output_type": "stream",
     "text": [
      "39570\n"
     ]
    }
   ],
   "source": [
    "filtered_df = df_hatemedia[(df_hatemedia['MEDIO'] == 'EL PAÍS') & (df_hatemedia['TIPO DE ODIO'].isna())]\n",
    "\n",
    "# Print the filtered DataFrame\n",
    "print(len(filtered_df))"
   ]
  },
  {
   "cell_type": "code",
   "execution_count": 39,
   "id": "b7b4223d-a255-4c5e-9853-dcc599fa5861",
   "metadata": {},
   "outputs": [
    {
     "name": "stdout",
     "output_type": "stream",
     "text": [
      "Sentimientos para EL PAÍS\n",
      "negative 25588\n",
      "positive 4197\n",
      "neutral 12019\n"
     ]
    }
   ],
   "source": [
    "medio= \"EL PAÍS\"\n",
    "print(\"Sentimientos para \"+medio)\n",
    "\n",
    "sents = [\"negative\",\"positive\", \"neutral\"]\n",
    "\n",
    "for s in sents:\n",
    "    filtered_df = df_hatemedia[(df_hatemedia['MEDIO'] == medio) &\n",
    "(df_hatemedia['SENTIMIENTO']==s)]\n",
    "    # Print the filtered DataFrame\n",
    "    print(s +\" \" + str(len(filtered_df)))"
   ]
  },
  {
   "cell_type": "markdown",
   "id": "5ec4d6a6-7f55-4bc8-873c-3fe415aaa7e7",
   "metadata": {},
   "source": [
    "## LA VANGUARDIA"
   ]
  },
  {
   "cell_type": "code",
   "execution_count": 40,
   "id": "95576152-b8b9-480f-a023-85644ad8c6e5",
   "metadata": {},
   "outputs": [
    {
     "name": "stdout",
     "output_type": "stream",
     "text": [
      "500\n"
     ]
    }
   ],
   "source": [
    "filtered_df = df_hatemedia[(df_hatemedia['MEDIO'] == 'LA VANGUARDIA') & ~df_hatemedia['TIPO DE ODIO'].isna()]\n",
    "\n",
    "# Print the filtered DataFrame\n",
    "print(len(filtered_df))"
   ]
  },
  {
   "cell_type": "code",
   "execution_count": 42,
   "id": "fbf67249-442f-4b73-bd07-f848f5817e5a",
   "metadata": {},
   "outputs": [
    {
     "name": "stdout",
     "output_type": "stream",
     "text": [
      "37602\n"
     ]
    }
   ],
   "source": [
    "filtered_df = df_hatemedia[(df_hatemedia['MEDIO'] == 'LA VANGUARDIA') & (df_hatemedia['TIPO DE ODIO'].isna())]\n",
    "\n",
    "# Print the filtered DataFrame\n",
    "print(len(filtered_df))"
   ]
  },
  {
   "cell_type": "code",
   "execution_count": 43,
   "id": "0b72b42f-97e6-420d-8fa6-91ea55d2e0f9",
   "metadata": {},
   "outputs": [
    {
     "name": "stdout",
     "output_type": "stream",
     "text": [
      "Sentimientos para LA VANGUARDIA\n",
      "negative 20692\n",
      "positive 4297\n",
      "neutral 13113\n"
     ]
    }
   ],
   "source": [
    "medio= \"LA VANGUARDIA\"\n",
    "print(\"Sentimientos para \"+medio)\n",
    "\n",
    "sents = [\"negative\",\"positive\", \"neutral\"]\n",
    "\n",
    "for s in sents:\n",
    "    filtered_df = df_hatemedia[(df_hatemedia['MEDIO'] == medio) &\n",
    "(df_hatemedia['SENTIMIENTO']==s)]\n",
    "    # Print the filtered DataFrame\n",
    "    print(s +\" \" + str(len(filtered_df)))"
   ]
  },
  {
   "cell_type": "markdown",
   "id": "0980ce36-d08f-466e-b748-cda320ab7809",
   "metadata": {},
   "source": [
    "---"
   ]
  },
  {
   "cell_type": "code",
   "execution_count": 214,
   "id": "7c69baee-9da2-42bc-b050-06261739ff7f",
   "metadata": {
    "scrolled": true
   },
   "outputs": [
    {
     "data": {
      "text/plain": [
       "MEDIO          TIPO DE MENSAJE\n",
       "20MIN          COMENTARIO          49573\n",
       "               NOTICIA             39341\n",
       "               TITULAR NOTICIA     30402\n",
       "ABC            COMENTARIO          72362\n",
       "               NOTICIA             26388\n",
       "               TITULAR NOTICIA     17531\n",
       "EL MUNDO       COMENTARIO         143209\n",
       "               NOTICIA             18138\n",
       "               TITULAR NOTICIA     10843\n",
       "EL PAÍS        NOTICIA             81637\n",
       "               COMENTARIO          43368\n",
       "               TITULAR NOTICIA     24199\n",
       "LA VANGUARDIA  COMENTARIO          39610\n",
       "               TITULAR NOTICIA     14374\n",
       "               NOTICIA              9231\n",
       "Name: TIPO DE MENSAJE, dtype: int64"
      ]
     },
     "metadata": {},
     "output_type": "display_data"
    }
   ],
   "source": [
    "grouped_df['TIPO DE MENSAJE'].value_counts().to_frame().to_excel(\"type_content_media.xlsx\")\n",
    "display(grouped_df['TIPO DE MENSAJE'].value_counts())"
   ]
  },
  {
   "cell_type": "code",
   "execution_count": 3,
   "id": "f2320e37-6ff7-4de6-892d-91212bbef227",
   "metadata": {},
   "outputs": [
    {
     "data": {
      "text/html": [
       "<div>\n",
       "<style scoped>\n",
       "    .dataframe tbody tr th:only-of-type {\n",
       "        vertical-align: middle;\n",
       "    }\n",
       "\n",
       "    .dataframe tbody tr th {\n",
       "        vertical-align: top;\n",
       "    }\n",
       "\n",
       "    .dataframe thead th {\n",
       "        text-align: right;\n",
       "    }\n",
       "</style>\n",
       "<table border=\"1\" class=\"dataframe\">\n",
       "  <thead>\n",
       "    <tr style=\"text-align: right;\">\n",
       "      <th></th>\n",
       "      <th>ID</th>\n",
       "      <th>MEDIO</th>\n",
       "      <th>SOPORTE</th>\n",
       "      <th>URL</th>\n",
       "      <th>TIPO DE MENSAJE</th>\n",
       "      <th>CONTENIDO A ANALIZAR</th>\n",
       "      <th>INTENSIDAD</th>\n",
       "      <th>TONO HUMORISTICO</th>\n",
       "      <th>MODIFICADOR</th>\n",
       "      <th>TIPO DE ODIO</th>\n",
       "    </tr>\n",
       "  </thead>\n",
       "  <tbody>\n",
       "    <tr>\n",
       "      <th>0</th>\n",
       "      <td>55317</td>\n",
       "      <td>20MIN</td>\n",
       "      <td>WEB</td>\n",
       "      <td>https://www.20minutos.es/noticia/4537425/0/alm...</td>\n",
       "      <td>COMENTARIO</td>\n",
       "      <td>Ayuso y Aguado...</td>\n",
       "      <td>NaN</td>\n",
       "      <td>NaN</td>\n",
       "      <td>NaN</td>\n",
       "      <td>NaN</td>\n",
       "    </tr>\n",
       "    <tr>\n",
       "      <th>1</th>\n",
       "      <td>57396</td>\n",
       "      <td>20MIN</td>\n",
       "      <td>WEB</td>\n",
       "      <td>https://www.20minutos.es/noticia/4544713/0/la-...</td>\n",
       "      <td>COMENTARIO</td>\n",
       "      <td>Los meteorólogos que a...</td>\n",
       "      <td>NaN</td>\n",
       "      <td>NaN</td>\n",
       "      <td>NaN</td>\n",
       "      <td>NaN</td>\n",
       "    </tr>\n",
       "    <tr>\n",
       "      <th>2</th>\n",
       "      <td>31693</td>\n",
       "      <td>ABC</td>\n",
       "      <td>TWITTER</td>\n",
       "      <td>https://twitter.com/913912033699131393/status/...</td>\n",
       "      <td>COMENTARIO</td>\n",
       "      <td>Los testigos desmontan...</td>\n",
       "      <td>NaN</td>\n",
       "      <td>NaN</td>\n",
       "      <td>NaN</td>\n",
       "      <td>NaN</td>\n",
       "    </tr>\n",
       "    <tr>\n",
       "      <th>3</th>\n",
       "      <td>31305</td>\n",
       "      <td>ABC</td>\n",
       "      <td>TWITTER</td>\n",
       "      <td>https://twitter.com/875031079710752768/status/...</td>\n",
       "      <td>COMENTARIO</td>\n",
       "      <td>Una residencia concert...</td>\n",
       "      <td>NaN</td>\n",
       "      <td>NaN</td>\n",
       "      <td>NaN</td>\n",
       "      <td>NaN</td>\n",
       "    </tr>\n",
       "    <tr>\n",
       "      <th>4</th>\n",
       "      <td>54706</td>\n",
       "      <td>20MIN</td>\n",
       "      <td>WEB</td>\n",
       "      <td>https://www.20minutos.es/noticia/4536427/0/nev...</td>\n",
       "      <td>COMENTARIO</td>\n",
       "      <td>El día de mañana 2004... la peli real....</td>\n",
       "      <td>NaN</td>\n",
       "      <td>NaN</td>\n",
       "      <td>NaN</td>\n",
       "      <td>NaN</td>\n",
       "    </tr>\n",
       "    <tr>\n",
       "      <th>...</th>\n",
       "      <td>...</td>\n",
       "      <td>...</td>\n",
       "      <td>...</td>\n",
       "      <td>...</td>\n",
       "      <td>...</td>\n",
       "      <td>...</td>\n",
       "      <td>...</td>\n",
       "      <td>...</td>\n",
       "      <td>...</td>\n",
       "      <td>...</td>\n",
       "    </tr>\n",
       "    <tr>\n",
       "      <th>615699</th>\n",
       "      <td>50074</td>\n",
       "      <td>EL PAÍS</td>\n",
       "      <td>TWITTER</td>\n",
       "      <td>https://twitter.com/el_pais/status/13499003899...</td>\n",
       "      <td>NOTICIA</td>\n",
       "      <td>Ya te conocemos hipócrita desde la no solución...</td>\n",
       "      <td>3</td>\n",
       "      <td>NaN</td>\n",
       "      <td>NaN</td>\n",
       "      <td>Ideológico</td>\n",
       "    </tr>\n",
       "    <tr>\n",
       "      <th>615699</th>\n",
       "      <td>50074</td>\n",
       "      <td>EL PAÍS</td>\n",
       "      <td>TWITTER</td>\n",
       "      <td>https://twitter.com/el_pais/status/13499003899...</td>\n",
       "      <td>NOTICIA</td>\n",
       "      <td>Ya te conocemos hipócrita desde la no solución...</td>\n",
       "      <td>3</td>\n",
       "      <td>NaN</td>\n",
       "      <td>NaN</td>\n",
       "      <td>sexual</td>\n",
       "    </tr>\n",
       "    <tr>\n",
       "      <th>617401</th>\n",
       "      <td>90647</td>\n",
       "      <td>EL MUNDO</td>\n",
       "      <td>WEB</td>\n",
       "      <td>https://www.elmundo.es/espana/2021/01/09/5ff98...</td>\n",
       "      <td>COMENTARIO</td>\n",
       "      <td>Yo respondo a MONCLOA, y me pregunto, qué o qu...</td>\n",
       "      <td>3</td>\n",
       "      <td>NaN</td>\n",
       "      <td>NaN</td>\n",
       "      <td>Misoginia</td>\n",
       "    </tr>\n",
       "    <tr>\n",
       "      <th>617401</th>\n",
       "      <td>90647</td>\n",
       "      <td>EL MUNDO</td>\n",
       "      <td>WEB</td>\n",
       "      <td>https://www.elmundo.es/espana/2021/01/09/5ff98...</td>\n",
       "      <td>COMENTARIO</td>\n",
       "      <td>Yo respondo a MONCLOA, y me pregunto, qué o qu...</td>\n",
       "      <td>3</td>\n",
       "      <td>NaN</td>\n",
       "      <td>NaN</td>\n",
       "      <td>Ideológico</td>\n",
       "    </tr>\n",
       "    <tr>\n",
       "      <th>617401</th>\n",
       "      <td>90647</td>\n",
       "      <td>EL MUNDO</td>\n",
       "      <td>WEB</td>\n",
       "      <td>https://www.elmundo.es/espana/2021/01/09/5ff98...</td>\n",
       "      <td>COMENTARIO</td>\n",
       "      <td>Yo respondo a MONCLOA, y me pregunto, qué o qu...</td>\n",
       "      <td>3</td>\n",
       "      <td>NaN</td>\n",
       "      <td>NaN</td>\n",
       "      <td>Sexual</td>\n",
       "    </tr>\n",
       "  </tbody>\n",
       "</table>\n",
       "<p>620787 rows × 10 columns</p>\n",
       "</div>"
      ],
      "text/plain": [
       "           ID     MEDIO  SOPORTE  \\\n",
       "0       55317     20MIN      WEB   \n",
       "1       57396     20MIN      WEB   \n",
       "2       31693      ABC   TWITTER   \n",
       "3       31305      ABC   TWITTER   \n",
       "4       54706     20MIN      WEB   \n",
       "...       ...       ...      ...   \n",
       "615699  50074  EL PAÍS   TWITTER   \n",
       "615699  50074  EL PAÍS   TWITTER   \n",
       "617401  90647  EL MUNDO      WEB   \n",
       "617401  90647  EL MUNDO      WEB   \n",
       "617401  90647  EL MUNDO      WEB   \n",
       "\n",
       "                                                      URL TIPO DE MENSAJE  \\\n",
       "0       https://www.20minutos.es/noticia/4537425/0/alm...      COMENTARIO   \n",
       "1       https://www.20minutos.es/noticia/4544713/0/la-...      COMENTARIO   \n",
       "2       https://twitter.com/913912033699131393/status/...      COMENTARIO   \n",
       "3       https://twitter.com/875031079710752768/status/...      COMENTARIO   \n",
       "4       https://www.20minutos.es/noticia/4536427/0/nev...      COMENTARIO   \n",
       "...                                                   ...             ...   \n",
       "615699  https://twitter.com/el_pais/status/13499003899...         NOTICIA   \n",
       "615699  https://twitter.com/el_pais/status/13499003899...         NOTICIA   \n",
       "617401  https://www.elmundo.es/espana/2021/01/09/5ff98...      COMENTARIO   \n",
       "617401  https://www.elmundo.es/espana/2021/01/09/5ff98...      COMENTARIO   \n",
       "617401  https://www.elmundo.es/espana/2021/01/09/5ff98...      COMENTARIO   \n",
       "\n",
       "                                     CONTENIDO A ANALIZAR INTENSIDAD  \\\n",
       "0                                       Ayuso y Aguado...        NaN   \n",
       "1                               Los meteorólogos que a...        NaN   \n",
       "2                               Los testigos desmontan...        NaN   \n",
       "3                               Una residencia concert...        NaN   \n",
       "4               El día de mañana 2004... la peli real....        NaN   \n",
       "...                                                   ...        ...   \n",
       "615699  Ya te conocemos hipócrita desde la no solución...          3   \n",
       "615699  Ya te conocemos hipócrita desde la no solución...          3   \n",
       "617401  Yo respondo a MONCLOA, y me pregunto, qué o qu...          3   \n",
       "617401  Yo respondo a MONCLOA, y me pregunto, qué o qu...          3   \n",
       "617401  Yo respondo a MONCLOA, y me pregunto, qué o qu...          3   \n",
       "\n",
       "       TONO HUMORISTICO MODIFICADOR TIPO DE ODIO  \n",
       "0                   NaN         NaN          NaN  \n",
       "1                   NaN         NaN          NaN  \n",
       "2                   NaN         NaN          NaN  \n",
       "3                   NaN         NaN          NaN  \n",
       "4                   NaN         NaN          NaN  \n",
       "...                 ...         ...          ...  \n",
       "615699              NaN         NaN   Ideológico  \n",
       "615699              NaN         NaN       sexual  \n",
       "617401              NaN         NaN    Misoginia  \n",
       "617401              NaN         NaN   Ideológico  \n",
       "617401              NaN         NaN       Sexual  \n",
       "\n",
       "[620787 rows x 10 columns]"
      ]
     },
     "metadata": {},
     "output_type": "display_data"
    }
   ],
   "source": [
    "import pandas as pd\n",
    "\n",
    "# Suponiendo que ya tienes las bibliotecas cargadas y el DataFrame df_hatemedia definido\n",
    "\n",
    "# Duplicar las filas que tienen varios valores separados por comas en la columna 'TIPO DE ODIO'\n",
    "df_duplicado = df_hatemedia[df_hatemedia['TIPO DE ODIO'].str.contains(',', na=False)].copy()\n",
    "df_hatemedia_uniq = df_hatemedia[~df_hatemedia['TIPO DE ODIO'].str.contains(',', na=False)]\n",
    "\n",
    "# Dividir los valores separados por comas y crear filas adicionales\n",
    "df_duplicado['TIPO DE ODIO'] = df_duplicado['TIPO DE ODIO'].str.split(',')\n",
    "df_duplicado = df_duplicado.explode('TIPO DE ODIO')\n",
    "\n",
    "# Concatenar los DataFrames\n",
    "df_hatemedia = pd.concat([df_hatemedia_uniq, df_duplicado])\n",
    "\n",
    "# Eliminar comas y espacios en blanco\n",
    "df_hatemedia['TIPO DE ODIO'] = df_hatemedia['TIPO DE ODIO'].str.strip()\n",
    "\n",
    "df_hatemedia.to_excel(\"df_hatemedia_hate_no_duplicate.xlsx\")\n",
    "\n",
    "# Mostrar el DataFrame resultante\n",
    "display(df_hatemedia)\n"
   ]
  },
  {
   "cell_type": "markdown",
   "id": "ee721ea9-e3cd-4c05-b0da-7c2d23f714a9",
   "metadata": {},
   "source": [
    "# Sentiment analysis"
   ]
  },
  {
   "cell_type": "code",
   "execution_count": 23,
   "id": "86c8c408-fb92-4533-9587-a6eafef1cd62",
   "metadata": {
    "scrolled": true
   },
   "outputs": [
    {
     "name": "stdout",
     "output_type": "stream",
     "text": [
      "Defaulting to user installation because normal site-packages is not writeable\n",
      "Collecting tweetnlp\n",
      "  Downloading tweetnlp-0.4.4.tar.gz (54 kB)\n",
      "\u001b[2K     \u001b[38;2;114;156;31m━━━━━━━━━━━━━━━━━━━━━━━━━━━━━━━━━━━━━━━━\u001b[0m \u001b[32m54.6/54.6 kB\u001b[0m \u001b[31m1.6 MB/s\u001b[0m eta \u001b[36m0:00:00\u001b[0m\n",
      "\u001b[?25h  Preparing metadata (setup.py) ... \u001b[?25ldone\n",
      "\u001b[?25hCollecting ray[tune] (from tweetnlp)\n",
      "  Downloading ray-2.9.1-cp310-cp310-manylinux2014_x86_64.whl.metadata (13 kB)\n",
      "Requirement already satisfied: numpy in /home/pastor/.local/lib/python3.10/site-packages (from tweetnlp) (1.26.3)\n",
      "Collecting urlextract (from tweetnlp)\n",
      "  Downloading urlextract-1.8.0-py3-none-any.whl (21 kB)\n",
      "Collecting transformers<=4.21.2 (from tweetnlp)\n",
      "  Downloading transformers-4.21.2-py3-none-any.whl (4.7 MB)\n",
      "\u001b[2K     \u001b[38;2;114;156;31m━━━━━━━━━━━━━━━━━━━━━━━━━━━━━━━━━━━━━━━━\u001b[0m \u001b[32m4.7/4.7 MB\u001b[0m \u001b[31m30.4 MB/s\u001b[0m eta \u001b[36m0:00:00\u001b[0mm eta \u001b[36m0:00:01\u001b[0m[36m0:00:01\u001b[0m\n",
      "\u001b[?25hCollecting huggingface-hub<=0.9.1 (from tweetnlp)\n",
      "  Downloading huggingface_hub-0.9.1-py3-none-any.whl (120 kB)\n",
      "\u001b[2K     \u001b[38;2;114;156;31m━━━━━━━━━━━━━━━━━━━━━━━━━━━━━━━━━━━━━━\u001b[0m \u001b[32m120.7/120.7 kB\u001b[0m \u001b[31m23.3 MB/s\u001b[0m eta \u001b[36m0:00:00\u001b[0m\n",
      "\u001b[?25hRequirement already satisfied: sentence_transformers in /home/pastor/.local/lib/python3.10/site-packages (from tweetnlp) (2.2.2)\n",
      "Requirement already satisfied: torch in /home/pastor/.local/lib/python3.10/site-packages (from tweetnlp) (2.1.2)\n",
      "Requirement already satisfied: datasets in /home/pastor/.local/lib/python3.10/site-packages (from tweetnlp) (2.16.1)\n",
      "Requirement already satisfied: filelock in /home/pastor/.local/lib/python3.10/site-packages (from huggingface-hub<=0.9.1->tweetnlp) (3.13.1)\n",
      "Requirement already satisfied: requests in /home/pastor/.local/lib/python3.10/site-packages (from huggingface-hub<=0.9.1->tweetnlp) (2.28.1)\n",
      "Requirement already satisfied: tqdm in /home/pastor/.local/lib/python3.10/site-packages (from huggingface-hub<=0.9.1->tweetnlp) (4.66.1)\n",
      "Requirement already satisfied: pyyaml>=5.1 in /usr/lib/python3/dist-packages (from huggingface-hub<=0.9.1->tweetnlp) (5.3.1)\n",
      "Requirement already satisfied: typing-extensions>=3.7.4.3 in /home/pastor/.local/lib/python3.10/site-packages (from huggingface-hub<=0.9.1->tweetnlp) (4.9.0)\n",
      "Requirement already satisfied: packaging>=20.9 in /home/pastor/.local/lib/python3.10/site-packages (from huggingface-hub<=0.9.1->tweetnlp) (23.2)\n",
      "Requirement already satisfied: regex!=2019.12.17 in /home/pastor/.local/lib/python3.10/site-packages (from transformers<=4.21.2->tweetnlp) (2023.12.25)\n",
      "Collecting tokenizers!=0.11.3,<0.13,>=0.11.1 (from transformers<=4.21.2->tweetnlp)\n",
      "  Downloading tokenizers-0.12.1-cp310-cp310-manylinux_2_12_x86_64.manylinux2010_x86_64.whl (6.6 MB)\n",
      "\u001b[2K     \u001b[38;2;114;156;31m━━━━━━━━━━━━━━━━━━━━━━━━━━━━━━━━━━━━━━━━\u001b[0m \u001b[32m6.6/6.6 MB\u001b[0m \u001b[31m8.4 MB/s\u001b[0m eta \u001b[36m0:00:00\u001b[0mm eta \u001b[36m0:00:01\u001b[0m0:01\u001b[0m:01\u001b[0mm\n",
      "\u001b[?25hRequirement already satisfied: pyarrow>=8.0.0 in /home/pastor/.local/lib/python3.10/site-packages (from datasets->tweetnlp) (14.0.2)\n",
      "Requirement already satisfied: pyarrow-hotfix in /home/pastor/.local/lib/python3.10/site-packages (from datasets->tweetnlp) (0.6)\n",
      "Requirement already satisfied: dill<0.3.8,>=0.3.0 in /home/pastor/.local/lib/python3.10/site-packages (from datasets->tweetnlp) (0.3.7)\n",
      "Requirement already satisfied: pandas in /home/pastor/.local/lib/python3.10/site-packages (from datasets->tweetnlp) (1.5.3)\n",
      "Requirement already satisfied: xxhash in /home/pastor/.local/lib/python3.10/site-packages (from datasets->tweetnlp) (3.4.1)\n",
      "Requirement already satisfied: multiprocess in /home/pastor/.local/lib/python3.10/site-packages (from datasets->tweetnlp) (0.70.15)\n",
      "Requirement already satisfied: fsspec<=2023.10.0,>=2023.1.0 in /home/pastor/.local/lib/python3.10/site-packages (from fsspec[http]<=2023.10.0,>=2023.1.0->datasets->tweetnlp) (2023.10.0)\n",
      "Requirement already satisfied: aiohttp in /home/pastor/.local/lib/python3.10/site-packages (from datasets->tweetnlp) (3.9.1)\n",
      "INFO: pip is looking at multiple versions of datasets to determine which version is compatible with other requirements. This could take a while.\n",
      "Collecting datasets (from tweetnlp)\n",
      "  Downloading datasets-2.16.0-py3-none-any.whl.metadata (20 kB)\n",
      "  Downloading datasets-2.15.0-py3-none-any.whl.metadata (20 kB)\n",
      "  Downloading datasets-2.14.7-py3-none-any.whl.metadata (19 kB)\n",
      "  Downloading datasets-2.14.6-py3-none-any.whl.metadata (19 kB)\n",
      "  Downloading datasets-2.14.5-py3-none-any.whl.metadata (19 kB)\n",
      "Collecting fsspec<2023.9.0,>=2023.1.0 (from fsspec[http]<2023.9.0,>=2023.1.0->datasets->tweetnlp)\n",
      "  Downloading fsspec-2023.6.0-py3-none-any.whl.metadata (6.7 kB)\n",
      "Collecting datasets (from tweetnlp)\n",
      "  Downloading datasets-2.14.4-py3-none-any.whl.metadata (19 kB)\n",
      "  Downloading datasets-2.14.3-py3-none-any.whl.metadata (19 kB)\n",
      "INFO: pip is still looking at multiple versions of datasets to determine which version is compatible with other requirements. This could take a while.\n",
      "  Downloading datasets-2.14.2-py3-none-any.whl.metadata (19 kB)\n",
      "  Downloading datasets-2.14.1-py3-none-any.whl.metadata (19 kB)\n",
      "  Downloading datasets-2.14.0-py3-none-any.whl.metadata (19 kB)\n",
      "  Downloading datasets-2.13.2-py3-none-any.whl.metadata (20 kB)\n",
      "Collecting dill<0.3.7,>=0.3.0 (from datasets->tweetnlp)\n",
      "  Downloading dill-0.3.6-py3-none-any.whl (110 kB)\n",
      "\u001b[2K     \u001b[38;2;114;156;31m━━━━━━━━━━━━━━━━━━━━━━━━━━━━━━━━━━━━━━\u001b[0m \u001b[32m110.5/110.5 kB\u001b[0m \u001b[31m22.0 MB/s\u001b[0m eta \u001b[36m0:00:00\u001b[0m\n",
      "\u001b[?25hCollecting datasets (from tweetnlp)\n",
      "  Downloading datasets-2.13.1-py3-none-any.whl.metadata (20 kB)\n",
      "INFO: This is taking longer than usual. You might need to provide the dependency resolver with stricter constraints to reduce runtime. See https://pip.pypa.io/warnings/backtracking for guidance. If you want to abort this run, press Ctrl + C.\n",
      "  Downloading datasets-2.13.0-py3-none-any.whl.metadata (20 kB)\n",
      "  Downloading datasets-2.12.0-py3-none-any.whl (474 kB)\n",
      "\u001b[2K     \u001b[38;2;114;156;31m━━━━━━━━━━━━━━━━━━━━━━━━━━━━━━━━━━━━━━\u001b[0m \u001b[32m474.6/474.6 kB\u001b[0m \u001b[31m45.4 MB/s\u001b[0m eta \u001b[36m0:00:00\u001b[0m\n",
      "\u001b[?25h  Downloading datasets-2.11.0-py3-none-any.whl (468 kB)\n",
      "\u001b[2K     \u001b[38;2;114;156;31m━━━━━━━━━━━━━━━━━━━━━━━━━━━━━━━━━━━━━━\u001b[0m \u001b[32m468.7/468.7 kB\u001b[0m \u001b[31m42.9 MB/s\u001b[0m eta \u001b[36m0:00:00\u001b[0m\n",
      "\u001b[?25h  Downloading datasets-2.10.1-py3-none-any.whl (469 kB)\n",
      "\u001b[2K     \u001b[38;2;114;156;31m━━━━━━━━━━━━━━━━━━━━━━━━━━━━━━━━━━━━━━\u001b[0m \u001b[32m469.0/469.0 kB\u001b[0m \u001b[31m41.4 MB/s\u001b[0m eta \u001b[36m0:00:00\u001b[0m\n",
      "\u001b[?25hCollecting responses<0.19 (from datasets->tweetnlp)\n",
      "  Downloading responses-0.18.0-py3-none-any.whl (38 kB)\n",
      "Requirement already satisfied: click>=7.0 in /home/pastor/.local/lib/python3.10/site-packages (from ray[tune]->tweetnlp) (8.1.7)\n",
      "Requirement already satisfied: jsonschema in /home/pastor/.local/lib/python3.10/site-packages (from ray[tune]->tweetnlp) (4.21.0)\n",
      "Collecting msgpack<2.0.0,>=1.0.0 (from ray[tune]->tweetnlp)\n",
      "  Downloading msgpack-1.0.7-cp310-cp310-manylinux_2_17_x86_64.manylinux2014_x86_64.whl.metadata (9.1 kB)\n",
      "Requirement already satisfied: protobuf!=3.19.5,>=3.15.3 in /home/pastor/.local/lib/python3.10/site-packages (from ray[tune]->tweetnlp) (4.25.2)\n",
      "Requirement already satisfied: aiosignal in /home/pastor/.local/lib/python3.10/site-packages (from ray[tune]->tweetnlp) (1.3.1)\n",
      "Requirement already satisfied: frozenlist in /home/pastor/.local/lib/python3.10/site-packages (from ray[tune]->tweetnlp) (1.4.1)\n",
      "Collecting tensorboardX>=1.9 (from ray[tune]->tweetnlp)\n",
      "  Downloading tensorboardX-2.6.2.2-py2.py3-none-any.whl.metadata (5.8 kB)\n",
      "Requirement already satisfied: nltk in /home/pastor/.local/lib/python3.10/site-packages (from sentence_transformers->tweetnlp) (3.8.1)\n",
      "Requirement already satisfied: scikit-learn in /home/pastor/.local/lib/python3.10/site-packages (from sentence_transformers->tweetnlp) (1.3.2)\n",
      "Requirement already satisfied: scipy in /home/pastor/.local/lib/python3.10/site-packages (from sentence_transformers->tweetnlp) (1.11.4)\n",
      "Requirement already satisfied: sentencepiece in /home/pastor/.local/lib/python3.10/site-packages (from sentence_transformers->tweetnlp) (0.1.99)\n",
      "Requirement already satisfied: torchvision in /home/pastor/.local/lib/python3.10/site-packages (from sentence_transformers->tweetnlp) (0.16.2)\n",
      "Requirement already satisfied: sympy in /home/pastor/.local/lib/python3.10/site-packages (from torch->tweetnlp) (1.12)\n",
      "Requirement already satisfied: networkx in /home/pastor/.local/lib/python3.10/site-packages (from torch->tweetnlp) (3.2.1)\n",
      "Requirement already satisfied: jinja2 in /home/pastor/.local/lib/python3.10/site-packages (from torch->tweetnlp) (3.1.3)\n",
      "Requirement already satisfied: nvidia-cuda-nvrtc-cu12==12.1.105 in /home/pastor/.local/lib/python3.10/site-packages (from torch->tweetnlp) (12.1.105)\n",
      "Requirement already satisfied: nvidia-cuda-runtime-cu12==12.1.105 in /home/pastor/.local/lib/python3.10/site-packages (from torch->tweetnlp) (12.1.105)\n",
      "Requirement already satisfied: nvidia-cuda-cupti-cu12==12.1.105 in /home/pastor/.local/lib/python3.10/site-packages (from torch->tweetnlp) (12.1.105)\n",
      "Requirement already satisfied: nvidia-cudnn-cu12==8.9.2.26 in /home/pastor/.local/lib/python3.10/site-packages (from torch->tweetnlp) (8.9.2.26)\n",
      "Requirement already satisfied: nvidia-cublas-cu12==12.1.3.1 in /home/pastor/.local/lib/python3.10/site-packages (from torch->tweetnlp) (12.1.3.1)\n",
      "Requirement already satisfied: nvidia-cufft-cu12==11.0.2.54 in /home/pastor/.local/lib/python3.10/site-packages (from torch->tweetnlp) (11.0.2.54)\n",
      "Requirement already satisfied: nvidia-curand-cu12==10.3.2.106 in /home/pastor/.local/lib/python3.10/site-packages (from torch->tweetnlp) (10.3.2.106)\n",
      "Requirement already satisfied: nvidia-cusolver-cu12==11.4.5.107 in /home/pastor/.local/lib/python3.10/site-packages (from torch->tweetnlp) (11.4.5.107)\n",
      "Requirement already satisfied: nvidia-cusparse-cu12==12.1.0.106 in /home/pastor/.local/lib/python3.10/site-packages (from torch->tweetnlp) (12.1.0.106)\n",
      "Requirement already satisfied: nvidia-nccl-cu12==2.18.1 in /home/pastor/.local/lib/python3.10/site-packages (from torch->tweetnlp) (2.18.1)\n",
      "Requirement already satisfied: nvidia-nvtx-cu12==12.1.105 in /home/pastor/.local/lib/python3.10/site-packages (from torch->tweetnlp) (12.1.105)\n",
      "Requirement already satisfied: triton==2.1.0 in /home/pastor/.local/lib/python3.10/site-packages (from torch->tweetnlp) (2.1.0)\n",
      "Requirement already satisfied: nvidia-nvjitlink-cu12 in /home/pastor/.local/lib/python3.10/site-packages (from nvidia-cusolver-cu12==11.4.5.107->torch->tweetnlp) (12.3.101)\n",
      "Requirement already satisfied: idna in /home/pastor/.local/lib/python3.10/site-packages (from urlextract->tweetnlp) (3.6)\n",
      "Collecting uritools (from urlextract->tweetnlp)\n",
      "  Downloading uritools-4.0.2-py3-none-any.whl.metadata (4.7 kB)\n",
      "Requirement already satisfied: platformdirs in /home/pastor/.local/lib/python3.10/site-packages (from urlextract->tweetnlp) (4.1.0)\n",
      "Requirement already satisfied: attrs>=17.3.0 in /home/pastor/.local/lib/python3.10/site-packages (from aiohttp->datasets->tweetnlp) (23.2.0)\n",
      "Requirement already satisfied: multidict<7.0,>=4.5 in /home/pastor/.local/lib/python3.10/site-packages (from aiohttp->datasets->tweetnlp) (6.0.4)\n",
      "Requirement already satisfied: yarl<2.0,>=1.0 in /home/pastor/.local/lib/python3.10/site-packages (from aiohttp->datasets->tweetnlp) (1.9.4)\n",
      "Requirement already satisfied: async-timeout<5.0,>=4.0 in /home/pastor/.local/lib/python3.10/site-packages (from aiohttp->datasets->tweetnlp) (4.0.3)\n",
      "Requirement already satisfied: charset-normalizer<3,>=2 in /home/pastor/.local/lib/python3.10/site-packages (from requests->huggingface-hub<=0.9.1->tweetnlp) (2.1.1)\n",
      "Requirement already satisfied: urllib3<1.27,>=1.21.1 in /home/pastor/.local/lib/python3.10/site-packages (from requests->huggingface-hub<=0.9.1->tweetnlp) (1.26.18)\n",
      "Requirement already satisfied: certifi>=2017.4.17 in /home/pastor/.local/lib/python3.10/site-packages (from requests->huggingface-hub<=0.9.1->tweetnlp) (2023.11.17)\n",
      "Requirement already satisfied: MarkupSafe>=2.0 in /home/pastor/.local/lib/python3.10/site-packages (from jinja2->torch->tweetnlp) (2.1.3)\n",
      "Requirement already satisfied: jsonschema-specifications>=2023.03.6 in /home/pastor/.local/lib/python3.10/site-packages (from jsonschema->ray[tune]->tweetnlp) (2023.12.1)\n",
      "Requirement already satisfied: referencing>=0.28.4 in /home/pastor/.local/lib/python3.10/site-packages (from jsonschema->ray[tune]->tweetnlp) (0.32.1)\n",
      "Requirement already satisfied: rpds-py>=0.7.1 in /home/pastor/.local/lib/python3.10/site-packages (from jsonschema->ray[tune]->tweetnlp) (0.17.1)\n",
      "INFO: pip is looking at multiple versions of multiprocess to determine which version is compatible with other requirements. This could take a while.\n",
      "Collecting multiprocess (from datasets->tweetnlp)\n",
      "  Downloading multiprocess-0.70.14-py310-none-any.whl (134 kB)\n",
      "\u001b[2K     \u001b[38;2;114;156;31m━━━━━━━━━━━━━━━━━━━━━━━━━━━━━━━━━━━━━━\u001b[0m \u001b[32m134.3/134.3 kB\u001b[0m \u001b[31m15.7 MB/s\u001b[0m eta \u001b[36m0:00:00\u001b[0m\n",
      "\u001b[?25hRequirement already satisfied: joblib in /home/pastor/.local/lib/python3.10/site-packages (from nltk->sentence_transformers->tweetnlp) (1.3.2)\n",
      "Requirement already satisfied: python-dateutil>=2.8.1 in /home/pastor/.local/lib/python3.10/site-packages (from pandas->datasets->tweetnlp) (2.8.2)\n",
      "Requirement already satisfied: pytz>=2020.1 in /home/pastor/.local/lib/python3.10/site-packages (from pandas->datasets->tweetnlp) (2023.3.post1)\n",
      "Requirement already satisfied: threadpoolctl>=2.0.0 in /home/pastor/.local/lib/python3.10/site-packages (from scikit-learn->sentence_transformers->tweetnlp) (3.2.0)\n",
      "Requirement already satisfied: mpmath>=0.19 in /home/pastor/.local/lib/python3.10/site-packages (from sympy->torch->tweetnlp) (1.3.0)\n",
      "Requirement already satisfied: pillow!=8.3.*,>=5.3.0 in /home/pastor/.local/lib/python3.10/site-packages (from torchvision->sentence_transformers->tweetnlp) (10.2.0)\n",
      "Requirement already satisfied: six>=1.5 in /usr/lib/python3/dist-packages (from python-dateutil>=2.8.1->pandas->datasets->tweetnlp) (1.14.0)\n",
      "Downloading ray-2.9.1-cp310-cp310-manylinux2014_x86_64.whl (64.8 MB)\n",
      "\u001b[2K   \u001b[38;2;114;156;31m━━━━━━━━━━━━━━━━━━━━━━━━━━━━━━━━━━━━━━━━\u001b[0m \u001b[32m64.8/64.8 MB\u001b[0m \u001b[31m32.4 MB/s\u001b[0m eta \u001b[36m0:00:00\u001b[0mm eta \u001b[36m0:00:01\u001b[0m[36m0:00:01\u001b[0m\n",
      "\u001b[?25hDownloading msgpack-1.0.7-cp310-cp310-manylinux_2_17_x86_64.manylinux2014_x86_64.whl (530 kB)\n",
      "\u001b[2K   \u001b[38;2;114;156;31m━━━━━━━━━━━━━━━━━━━━━━━━━━━━━━━━━━━━━━━━\u001b[0m \u001b[32m530.8/530.8 kB\u001b[0m \u001b[31m42.8 MB/s\u001b[0m eta \u001b[36m0:00:00\u001b[0m\n",
      "\u001b[?25hDownloading tensorboardX-2.6.2.2-py2.py3-none-any.whl (101 kB)\n",
      "\u001b[2K   \u001b[38;2;114;156;31m━━━━━━━━━━━━━━━━━━━━━━━━━━━━━━━━━━━━━━━━\u001b[0m \u001b[32m101.7/101.7 kB\u001b[0m \u001b[31m20.4 MB/s\u001b[0m eta \u001b[36m0:00:00\u001b[0m\n",
      "\u001b[?25hDownloading uritools-4.0.2-py3-none-any.whl (10 kB)\n",
      "Building wheels for collected packages: tweetnlp\n",
      "  Building wheel for tweetnlp (setup.py) ... \u001b[?25ldone\n",
      "\u001b[?25h  Created wheel for tweetnlp: filename=tweetnlp-0.4.4-py3-none-any.whl size=40455 sha256=dc218609cb418b6b62bb70f1f3bd034fec9dbe755e41c9c5889279eeaa8d7aec\n",
      "  Stored in directory: /home/pastor/.cache/pip/wheels/e3/20/85/708a7c81f0cb549df06f7cf9658391f3b471c897867cf429f6\n",
      "Successfully built tweetnlp\n",
      "Installing collected packages: tokenizers, uritools, tensorboardX, msgpack, dill, urlextract, responses, multiprocess, huggingface-hub, transformers, ray, datasets, tweetnlp\n",
      "  Attempting uninstall: tokenizers\n",
      "    Found existing installation: tokenizers 0.15.0\n",
      "    Uninstalling tokenizers-0.15.0:\n",
      "      Successfully uninstalled tokenizers-0.15.0\n",
      "  Attempting uninstall: dill\n",
      "    Found existing installation: dill 0.3.7\n",
      "    Uninstalling dill-0.3.7:\n",
      "      Successfully uninstalled dill-0.3.7\n",
      "  Attempting uninstall: multiprocess\n",
      "    Found existing installation: multiprocess 0.70.15\n",
      "    Uninstalling multiprocess-0.70.15:\n",
      "      Successfully uninstalled multiprocess-0.70.15\n",
      "  Attempting uninstall: huggingface-hub\n",
      "    Found existing installation: huggingface-hub 0.20.2\n",
      "    Uninstalling huggingface-hub-0.20.2:\n",
      "      Successfully uninstalled huggingface-hub-0.20.2\n",
      "  Attempting uninstall: transformers\n",
      "    Found existing installation: transformers 4.36.2\n",
      "    Uninstalling transformers-4.36.2:\n",
      "      Successfully uninstalled transformers-4.36.2\n",
      "  Attempting uninstall: datasets\n",
      "    Found existing installation: datasets 2.16.1\n",
      "    Uninstalling datasets-2.16.1:\n",
      "      Successfully uninstalled datasets-2.16.1\n",
      "Successfully installed datasets-2.10.1 dill-0.3.6 huggingface-hub-0.9.1 msgpack-1.0.7 multiprocess-0.70.14 ray-2.9.1 responses-0.18.0 tensorboardX-2.6.2.2 tokenizers-0.12.1 transformers-4.21.2 tweetnlp-0.4.4 uritools-4.0.2 urlextract-1.8.0\n"
     ]
    }
   ],
   "source": [
    "!pip install tweetnlp"
   ]
  },
  {
   "cell_type": "code",
   "execution_count": 39,
   "id": "efdf564c-bc79-4c94-9110-98aa11dd0ef1",
   "metadata": {},
   "outputs": [
    {
     "data": {
      "text/html": [
       "<div>\n",
       "<style scoped>\n",
       "    .dataframe tbody tr th:only-of-type {\n",
       "        vertical-align: middle;\n",
       "    }\n",
       "\n",
       "    .dataframe tbody tr th {\n",
       "        vertical-align: top;\n",
       "    }\n",
       "\n",
       "    .dataframe thead th {\n",
       "        text-align: right;\n",
       "    }\n",
       "</style>\n",
       "<table border=\"1\" class=\"dataframe\">\n",
       "  <thead>\n",
       "    <tr style=\"text-align: right;\">\n",
       "      <th></th>\n",
       "      <th>ID</th>\n",
       "      <th>MEDIO</th>\n",
       "      <th>SOPORTE</th>\n",
       "      <th>URL</th>\n",
       "      <th>TIPO DE MENSAJE</th>\n",
       "      <th>CONTENIDO A ANALIZAR</th>\n",
       "      <th>INTENSIDAD</th>\n",
       "      <th>TONO HUMORISTICO</th>\n",
       "      <th>MODIFICADOR</th>\n",
       "      <th>TIPO DE ODIO</th>\n",
       "      <th>SENTIMIENTO</th>\n",
       "    </tr>\n",
       "  </thead>\n",
       "  <tbody>\n",
       "    <tr>\n",
       "      <th>0</th>\n",
       "      <td>55317</td>\n",
       "      <td>20MIN</td>\n",
       "      <td>WEB</td>\n",
       "      <td>https://www.20minutos.es/noticia/4537425/0/alm...</td>\n",
       "      <td>COMENTARIO</td>\n",
       "      <td>Ayuso y Aguado...</td>\n",
       "      <td>NaN</td>\n",
       "      <td>NaN</td>\n",
       "      <td>NaN</td>\n",
       "      <td>NaN</td>\n",
       "      <td>negative</td>\n",
       "    </tr>\n",
       "    <tr>\n",
       "      <th>1</th>\n",
       "      <td>57396</td>\n",
       "      <td>20MIN</td>\n",
       "      <td>WEB</td>\n",
       "      <td>https://www.20minutos.es/noticia/4544713/0/la-...</td>\n",
       "      <td>COMENTARIO</td>\n",
       "      <td>Los meteorólogos que a...</td>\n",
       "      <td>NaN</td>\n",
       "      <td>NaN</td>\n",
       "      <td>NaN</td>\n",
       "      <td>NaN</td>\n",
       "      <td>negative</td>\n",
       "    </tr>\n",
       "    <tr>\n",
       "      <th>2</th>\n",
       "      <td>31693</td>\n",
       "      <td>ABC</td>\n",
       "      <td>TWITTER</td>\n",
       "      <td>https://twitter.com/913912033699131393/status/...</td>\n",
       "      <td>COMENTARIO</td>\n",
       "      <td>Los testigos desmontan...</td>\n",
       "      <td>NaN</td>\n",
       "      <td>NaN</td>\n",
       "      <td>NaN</td>\n",
       "      <td>NaN</td>\n",
       "      <td>negative</td>\n",
       "    </tr>\n",
       "    <tr>\n",
       "      <th>3</th>\n",
       "      <td>31305</td>\n",
       "      <td>ABC</td>\n",
       "      <td>TWITTER</td>\n",
       "      <td>https://twitter.com/875031079710752768/status/...</td>\n",
       "      <td>COMENTARIO</td>\n",
       "      <td>Una residencia concert...</td>\n",
       "      <td>NaN</td>\n",
       "      <td>NaN</td>\n",
       "      <td>NaN</td>\n",
       "      <td>NaN</td>\n",
       "      <td>negative</td>\n",
       "    </tr>\n",
       "    <tr>\n",
       "      <th>4</th>\n",
       "      <td>54706</td>\n",
       "      <td>20MIN</td>\n",
       "      <td>WEB</td>\n",
       "      <td>https://www.20minutos.es/noticia/4536427/0/nev...</td>\n",
       "      <td>COMENTARIO</td>\n",
       "      <td>El día de mañana 2004... la peli real....</td>\n",
       "      <td>NaN</td>\n",
       "      <td>NaN</td>\n",
       "      <td>NaN</td>\n",
       "      <td>NaN</td>\n",
       "      <td>neutral</td>\n",
       "    </tr>\n",
       "    <tr>\n",
       "      <th>...</th>\n",
       "      <td>...</td>\n",
       "      <td>...</td>\n",
       "      <td>...</td>\n",
       "      <td>...</td>\n",
       "      <td>...</td>\n",
       "      <td>...</td>\n",
       "      <td>...</td>\n",
       "      <td>...</td>\n",
       "      <td>...</td>\n",
       "      <td>...</td>\n",
       "      <td>...</td>\n",
       "    </tr>\n",
       "    <tr>\n",
       "      <th>620202</th>\n",
       "      <td>75227</td>\n",
       "      <td>ABC</td>\n",
       "      <td>WEB</td>\n",
       "      <td>https://www.abc.es/economia/abci-podemos-recha...</td>\n",
       "      <td>COMENTARIO</td>\n",
       "      <td>写真を撮ってもいいですか</td>\n",
       "      <td>NaN</td>\n",
       "      <td>NaN</td>\n",
       "      <td>NaN</td>\n",
       "      <td>NaN</td>\n",
       "      <td>neutral</td>\n",
       "    </tr>\n",
       "    <tr>\n",
       "      <th>620203</th>\n",
       "      <td>71534</td>\n",
       "      <td>ABC</td>\n",
       "      <td>WEB</td>\n",
       "      <td>https://www.abc.es/opinion/abci-editorial-abc-...</td>\n",
       "      <td>COMENTARIO</td>\n",
       "      <td>���答���</td>\n",
       "      <td>NaN</td>\n",
       "      <td>NaN</td>\n",
       "      <td>NaN</td>\n",
       "      <td>NaN</td>\n",
       "      <td>neutral</td>\n",
       "    </tr>\n",
       "    <tr>\n",
       "      <th>620204</th>\n",
       "      <td>71535</td>\n",
       "      <td>ABC</td>\n",
       "      <td>WEB</td>\n",
       "      <td>https://www.abc.es/opinion/abci-editorial-abc-...</td>\n",
       "      <td>COMENTARIO</td>\n",
       "      <td>隆Ay, pardillos! Mira que lo he repetido veces....</td>\n",
       "      <td>NaN</td>\n",
       "      <td>NaN</td>\n",
       "      <td>NaN</td>\n",
       "      <td>NaN</td>\n",
       "      <td>negative</td>\n",
       "    </tr>\n",
       "    <tr>\n",
       "      <th>620205</th>\n",
       "      <td>78562</td>\n",
       "      <td>ABC</td>\n",
       "      <td>WEB</td>\n",
       "      <td>https://www.abc.es/internacional/abci-explosio...</td>\n",
       "      <td>COMENTARIO</td>\n",
       "      <td>驴Allahu akbar?</td>\n",
       "      <td>NaN</td>\n",
       "      <td>NaN</td>\n",
       "      <td>NaN</td>\n",
       "      <td>NaN</td>\n",
       "      <td>neutral</td>\n",
       "    </tr>\n",
       "    <tr>\n",
       "      <th>620206</th>\n",
       "      <td>78563</td>\n",
       "      <td>ABC</td>\n",
       "      <td>WEB</td>\n",
       "      <td>https://www.abc.es/internacional/abci-explosio...</td>\n",
       "      <td>COMENTARIO</td>\n",
       "      <td>驴Un gran incendio ha estallado ... ?\\n\\n\\n驴Las...</td>\n",
       "      <td>NaN</td>\n",
       "      <td>NaN</td>\n",
       "      <td>NaN</td>\n",
       "      <td>NaN</td>\n",
       "      <td>negative</td>\n",
       "    </tr>\n",
       "  </tbody>\n",
       "</table>\n",
       "<p>620207 rows × 11 columns</p>\n",
       "</div>"
      ],
      "text/plain": [
       "           ID  MEDIO  SOPORTE  \\\n",
       "0       55317  20MIN      WEB   \n",
       "1       57396  20MIN      WEB   \n",
       "2       31693    ABC  TWITTER   \n",
       "3       31305    ABC  TWITTER   \n",
       "4       54706  20MIN      WEB   \n",
       "...       ...    ...      ...   \n",
       "620202  75227    ABC      WEB   \n",
       "620203  71534    ABC      WEB   \n",
       "620204  71535    ABC      WEB   \n",
       "620205  78562    ABC      WEB   \n",
       "620206  78563    ABC      WEB   \n",
       "\n",
       "                                                      URL TIPO DE MENSAJE  \\\n",
       "0       https://www.20minutos.es/noticia/4537425/0/alm...      COMENTARIO   \n",
       "1       https://www.20minutos.es/noticia/4544713/0/la-...      COMENTARIO   \n",
       "2       https://twitter.com/913912033699131393/status/...      COMENTARIO   \n",
       "3       https://twitter.com/875031079710752768/status/...      COMENTARIO   \n",
       "4       https://www.20minutos.es/noticia/4536427/0/nev...      COMENTARIO   \n",
       "...                                                   ...             ...   \n",
       "620202  https://www.abc.es/economia/abci-podemos-recha...      COMENTARIO   \n",
       "620203  https://www.abc.es/opinion/abci-editorial-abc-...      COMENTARIO   \n",
       "620204  https://www.abc.es/opinion/abci-editorial-abc-...      COMENTARIO   \n",
       "620205  https://www.abc.es/internacional/abci-explosio...      COMENTARIO   \n",
       "620206  https://www.abc.es/internacional/abci-explosio...      COMENTARIO   \n",
       "\n",
       "                                     CONTENIDO A ANALIZAR INTENSIDAD  \\\n",
       "0                                       Ayuso y Aguado...        NaN   \n",
       "1                               Los meteorólogos que a...        NaN   \n",
       "2                               Los testigos desmontan...        NaN   \n",
       "3                               Una residencia concert...        NaN   \n",
       "4               El día de mañana 2004... la peli real....        NaN   \n",
       "...                                                   ...        ...   \n",
       "620202                                      写真を撮ってもいいですか         NaN   \n",
       "620203                                            ���答���        NaN   \n",
       "620204  隆Ay, pardillos! Mira que lo he repetido veces....        NaN   \n",
       "620205                                     驴Allahu akbar?        NaN   \n",
       "620206  驴Un gran incendio ha estallado ... ?\\n\\n\\n驴Las...        NaN   \n",
       "\n",
       "       TONO HUMORISTICO MODIFICADOR TIPO DE ODIO SENTIMIENTO  \n",
       "0                   NaN         NaN          NaN    negative  \n",
       "1                   NaN         NaN          NaN    negative  \n",
       "2                   NaN         NaN          NaN    negative  \n",
       "3                   NaN         NaN          NaN    negative  \n",
       "4                   NaN         NaN          NaN     neutral  \n",
       "...                 ...         ...          ...         ...  \n",
       "620202              NaN         NaN          NaN     neutral  \n",
       "620203              NaN         NaN          NaN     neutral  \n",
       "620204              NaN         NaN          NaN    negative  \n",
       "620205              NaN         NaN          NaN     neutral  \n",
       "620206              NaN         NaN          NaN    negative  \n",
       "\n",
       "[620207 rows x 11 columns]"
      ]
     },
     "metadata": {},
     "output_type": "display_data"
    }
   ],
   "source": [
    "import tweetnlp\n",
    "\n",
    "# MULTILINGUAL MODEL\n",
    "model = tweetnlp.load_model('sentiment', multilingual=True)  # Or `model = tweetnlp.Sentiment(multilingual=True)`\n",
    "\n",
    "# Aplicar la función sentiment a la columna CONTENIDO A ANALIZAR\n",
    "df_hatemedia['SENTIMIENTO'] = df_hatemedia['CONTENIDO A ANALIZAR'].apply(lambda x: model.sentiment(x)[\"label\"])\n",
    "\n",
    "# Muestra el DataFrame resultante\n",
    "display(df_hatemedia)"
   ]
  },
  {
   "cell_type": "code",
   "execution_count": 40,
   "id": "0d0c917d-cc71-4d6d-be8a-525229bcdf3a",
   "metadata": {},
   "outputs": [],
   "source": [
    "df_hatemedia.to_excel(\"df_hatemedia_sentiments.xlsx\", index=False)"
   ]
  },
  {
   "cell_type": "code",
   "execution_count": 220,
   "id": "fec24a80-cca5-4ee9-9c1e-a7775ab78d9d",
   "metadata": {},
   "outputs": [
    {
     "data": {
      "text/plain": [
       "negative    340592\n",
       "neutral     216623\n",
       "positive     62992\n",
       "Name: SENTIMIENTO, dtype: int64"
      ]
     },
     "execution_count": 220,
     "metadata": {},
     "output_type": "execute_result"
    }
   ],
   "source": [
    "sentiment_counts"
   ]
  },
  {
   "cell_type": "code",
   "execution_count": 219,
   "id": "1bc69b04-855c-4a78-b49f-8e33cce7c160",
   "metadata": {},
   "outputs": [
    {
     "data": {
      "image/png": "[encoded data removed]",
      "text/plain": [
       "<Figure size 850x600 with 1 Axes>"
      ]
     },
     "metadata": {},
     "output_type": "display_data"
    }
   ],
   "source": [
    "import pandas as pd\n",
    "import matplotlib.pyplot as plt\n",
    "from matplotlib.patches import FancyBboxPatch\n",
    "\n",
    "# Datos proporcionados\n",
    "sentimientos = ['negative', 'neutral', 'positive']\n",
    "counts = [340592, 216623, 62992]\n",
    "\n",
    "# Crear el gráfico de barras\n",
    "plt.figure(figsize=(8.5, 6))\n",
    "ax = sentiment_counts.plot(kind='bar',\n",
    "             color=['tomato', 'yellow', 'springgreen'])\n",
    "\n",
    "# Round the corners of the bars\n",
    "new_patches = []\n",
    "for patch in ax.patches:\n",
    "    bb = patch.get_bbox()\n",
    "    color = patch.get_facecolor()\n",
    "    p_bbox = FancyBboxPatch((bb.xmin, bb.ymin),\n",
    "                            abs(bb.width), abs(bb.height),\n",
    "                            boxstyle=\"round,pad=0.06\",  # Adjust the padding value for the desired corner roundness\n",
    "                            ec=\"gray\", fc=color,\n",
    "                            mutation_aspect=3\n",
    "                            )\n",
    "    patch.remove()\n",
    "    new_patches.append(p_bbox)\n",
    "\n",
    "for patch in new_patches:\n",
    "    ax.add_patch(patch)\n",
    "\n",
    "color=['darkred', 'darkgoldenrod', 'darkgreen']\n",
    "i = 0\n",
    "for p in ax.patches:\n",
    "    x = p.get_x() + p.get_width() / 2\n",
    "    y = p.get_height()\n",
    "    ax.annotate(f'{int(y):,} \\n ({y/620207*100:.2f}%)',\n",
    "                (x, y-145),\n",
    "                ha='center', va='bottom',\n",
    "                fontsize=12, color=color[i], fontweight='bold')\n",
    "    i = i +1\n",
    "\n",
    "plt.xticks(ticks=plt.xticks()[0], labels=[label.capitalize() for label in sentimientos], rotation=45, ha='right', fontsize=17)\n",
    "\n",
    "# Configuración del gráfico\n",
    "plt.ylabel('Number of posts', fontsize=18)\n",
    "plt.xlabel('')\n",
    "plt.xticks(rotation=45, ha='right', fontsize=17)\n",
    "plt.yticks(fontsize=16)\n",
    "plt.gca().spines['top'].set_visible(False)\n",
    "plt.gca().spines['right'].set_visible(False)\n",
    "plt.gca().spines['bottom'].set_visible(True)\n",
    "plt.gca().spines['left'].set_visible(False)\n",
    "plt.gca().xaxis.set_ticks_position('none')\n",
    "plt.gca().yaxis.set_ticks_position('none')\n",
    "plt.tick_params(axis='both', which='both', length=0)\n",
    "plt.grid(axis='y', linestyle='-', alpha=0.3)\n",
    "\n",
    "# Guardar el gráfico en un archivo SVG con un diseño ajustado\n",
    "plt.tight_layout()\n",
    "plt.savefig('sentiment_distribution.svg', format='svg')\n",
    "plt.savefig('sentiment_distribution.pdf', format='pdf')\n",
    "\n",
    "# Mostrar el gráfico (opcional)\n",
    "plt.show()"
   ]
  }
 ],
 "metadata": {
  "kernelspec": {
   "display_name": "Python 3 (ipykernel)",
   "language": "python",
   "name": "python3"
  },
  "language_info": {
   "codemirror_mode": {
    "name": "ipython",
    "version": 3
   },
   "file_extension": ".py",
   "mimetype": "text/x-python",
   "name": "python",
   "nbconvert_exporter": "python",
   "pygments_lexer": "ipython3",
   "version": "3.10.5"
  }
 },
 "nbformat": 4,
 "nbformat_minor": 5
}
